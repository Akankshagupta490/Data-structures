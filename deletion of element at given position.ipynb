{
 "cells": [
  {
   "cell_type": "code",
   "execution_count": 1,
   "metadata": {},
   "outputs": [],
   "source": [
    "class node:\n",
    "    def __init__(self,data):\n",
    "        self.data=data\n",
    "        self.link=None"
   ]
  },
  {
   "cell_type": "code",
   "execution_count": 2,
   "metadata": {},
   "outputs": [],
   "source": [
    "class linkedlist:\n",
    "    def __init__(self):\n",
    "        self.start=None\n",
    "    def create(self,value):\n",
    "        newnode=node(value)\n",
    "        if(self.start==None):\n",
    "            self.start=newnode\n",
    "        else:\n",
    "            temp=self.start\n",
    "            while(temp.link!=None):\n",
    "                temp=temp.link\n",
    "            temp.link=newnode\n",
    "       \n",
    "    def display(self):\n",
    "        if (self.start==None):\n",
    "            print(\"list is empty\")\n",
    "        else:\n",
    "            temp=self.start\n",
    "            while(temp!=None):\n",
    "                print(temp.data, end = \" \")\n",
    "                temp=temp.link\n",
    "            \n",
    "    \n",
    "            \n",
    "    def delete(self,k):\n",
    "        i=1\n",
    "        temp=self.start\n",
    "        if(self.start==None):\n",
    "            print('linkedlist is empty')\n",
    "        while i<k-1 and temp is not None:\n",
    "            temp=temp.link\n",
    "            i+=1\n",
    "        if temp.link is None:\n",
    "            print(\"cannot be deleted\")\n",
    "        else:\n",
    "            \n",
    "            temp.link=temp.link.link\n",
    "            "
   ]
  },
  {
   "cell_type": "code",
   "execution_count": 3,
   "metadata": {},
   "outputs": [
    {
     "name": "stdout",
     "output_type": "stream",
     "text": [
      "Given linkedlist:  10 20 30 40 \n"
     ]
    }
   ],
   "source": [
    "l=linkedlist()\n",
    "l.create(10)\n",
    "l.create(20)\n",
    "l.create(30)\n",
    "l.create(40)\n",
    "print(\"Given linkedlist: \", end=\" \")\n",
    "l.display()\n",
    "print()"
   ]
  },
  {
   "cell_type": "code",
   "execution_count": 4,
   "metadata": {},
   "outputs": [
    {
     "name": "stdout",
     "output_type": "stream",
     "text": [
      "After deleting second element:  10 30 40 "
     ]
    }
   ],
   "source": [
    "l.delete(2)  # delete second element\n",
    "print(\"After deleting second element: \", end=\" \")\n",
    "l.display()\n"
   ]
  },
  {
   "cell_type": "code",
   "execution_count": 34,
   "metadata": {},
   "outputs": [
    {
     "name": "stdout",
     "output_type": "stream",
     "text": [
      "cannot be deleted\n",
      "10 30 40 "
     ]
    }
   ],
   "source": [
    "l.delete(4)   # delete fourth element\n",
    "l.display()\n"
   ]
  }
 ],
 "metadata": {
  "kernelspec": {
   "display_name": "Python 3",
   "language": "python",
   "name": "python3"
  },
  "language_info": {
   "codemirror_mode": {
    "name": "ipython",
    "version": 3
   },
   "file_extension": ".py",
   "mimetype": "text/x-python",
   "name": "python",
   "nbconvert_exporter": "python",
   "pygments_lexer": "ipython3",
   "version": "3.6.5"
  }
 },
 "nbformat": 4,
 "nbformat_minor": 2
}
