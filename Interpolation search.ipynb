{
 "cells": [
  {
   "cell_type": "markdown",
   "metadata": {},
   "source": [
    "# Interpolation search "
   ]
  },
  {
   "cell_type": "code",
   "execution_count": 12,
   "metadata": {},
   "outputs": [],
   "source": [
    "def interpolate(arr, low, high, x):\n",
    "    if(low<high and arr[low]<=x and arr[high]>=x):\n",
    "        pos=low + int(( (x-arr[low])*(high-low) / (arr[high]-arr[low]) ))\n",
    "        \n",
    "        if(arr[pos]==x):\n",
    "            return pos\n",
    "        if(arr[pos]<x):\n",
    "            return interpolate(arr,pos+1,high,x)\n",
    "        if(arr[pos]>x):\n",
    "            return interpolate(arr,low,pos-1,x)\n",
    "    else:\n",
    "        return -1\n"
   ]
  },
  {
   "cell_type": "code",
   "execution_count": 13,
   "metadata": {},
   "outputs": [],
   "source": [
    "arr=[1,2,3,5,8,10,14,16,18]\n",
    "x=14\n",
    "\n",
    "result=interpolate(arr,0,len(arr)-1,x)"
   ]
  },
  {
   "cell_type": "code",
   "execution_count": 14,
   "metadata": {},
   "outputs": [
    {
     "name": "stdout",
     "output_type": "stream",
     "text": [
      "Element found at index:  6\n"
     ]
    }
   ],
   "source": [
    "if(result!=-1):\n",
    "    print(\"Element found at index: \", result)\n",
    "else:\n",
    "    print(\"Not found \")"
   ]
  },
  {
   "cell_type": "code",
   "execution_count": null,
   "metadata": {},
   "outputs": [],
   "source": []
  }
 ],
 "metadata": {
  "kernelspec": {
   "display_name": "Python 3",
   "language": "python",
   "name": "python3"
  },
  "language_info": {
   "codemirror_mode": {
    "name": "ipython",
    "version": 3
   },
   "file_extension": ".py",
   "mimetype": "text/x-python",
   "name": "python",
   "nbconvert_exporter": "python",
   "pygments_lexer": "ipython3",
   "version": "3.6.5"
  }
 },
 "nbformat": 4,
 "nbformat_minor": 2
}
