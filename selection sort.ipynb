{
 "cells": [
  {
   "cell_type": "markdown",
   "metadata": {},
   "source": [
    "# Selection sort"
   ]
  },
  {
   "cell_type": "code",
   "execution_count": 1,
   "metadata": {},
   "outputs": [
    {
     "name": "stdout",
     "output_type": "stream",
     "text": [
      "Enter the number of elements: 7\n",
      "3\n",
      "1\n",
      "9\n",
      "8\n",
      "3\n",
      "0\n",
      "2\n",
      "After sorting\n",
      "0 1 2 3 3 8 9 "
     ]
    }
   ],
   "source": [
    "def selection(list,n):\n",
    "    for i in range(n-1):\n",
    "        minimum=i\n",
    "        for j in range(i+1,n):\n",
    "               if (list[minimum]>list[j]):\n",
    "                    minimum=j\n",
    "        \n",
    "        if i!=minimum:\n",
    "            list[i],list[minimum]=list[minimum],list[i]\n",
    "            \n",
    "n=int(input(\"Enter the number of elements: \"))\n",
    "list=[None]*n\n",
    "\n",
    "for i in range(n):\n",
    "    list[i]=int(input())\n",
    "                       \n",
    "selection(list,n)\n",
    "print(\"After sorting\")\n",
    "                       \n",
    "for i in range(n):\n",
    "    \n",
    "    print(list[i], end=' ') "
   ]
  }
 ],
 "metadata": {
  "kernelspec": {
   "display_name": "Python 3",
   "language": "python",
   "name": "python3"
  },
  "language_info": {
   "codemirror_mode": {
    "name": "ipython",
    "version": 3
   },
   "file_extension": ".py",
   "mimetype": "text/x-python",
   "name": "python",
   "nbconvert_exporter": "python",
   "pygments_lexer": "ipython3",
   "version": "3.6.5"
  }
 },
 "nbformat": 4,
 "nbformat_minor": 2
}
