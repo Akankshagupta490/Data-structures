{
 "cells": [
  {
   "cell_type": "markdown",
   "metadata": {},
   "source": [
    "# Linear search"
   ]
  },
  {
   "cell_type": "code",
   "execution_count": 16,
   "metadata": {},
   "outputs": [
    {
     "name": "stdout",
     "output_type": "stream",
     "text": [
      "enter number of element in list: \n",
      "5\n",
      "1\n",
      "2\n",
      "3\n",
      "4\n",
      "5\n",
      "enter the value to be searched: 6\n",
      "Not found\n"
     ]
    }
   ],
   "source": [
    "def linear(a,n,value):\n",
    "    for i in range(n):\n",
    "        if(a[i]==value):\n",
    "            return i\n",
    "    return -1\n",
    "    \n",
    "print(\"enter number of element in list: \")\n",
    "n=int(input())\n",
    "a=[None]*n\n",
    "for i in range(n):\n",
    "    a[i]=int(input())\n",
    "    \n",
    "value=int(input(\"enter the value to be searched: \"))\n",
    "position = linear(a,n,value)\n",
    "if(position==-1):\n",
    "    print(\"Not found\")\n",
    "else:\n",
    "    print(\"Found at position: \"+str(i))"
   ]
  },
  {
   "cell_type": "markdown",
   "metadata": {},
   "source": [
    "# Binary search"
   ]
  },
  {
   "cell_type": "code",
   "execution_count": 29,
   "metadata": {},
   "outputs": [
    {
     "name": "stdout",
     "output_type": "stream",
     "text": [
      "Enter the number of elements: 3\n",
      "4\n",
      "5\n",
      "6\n",
      "5\n",
      "Found at position: 1\n"
     ]
    }
   ],
   "source": [
    "def binary(a,n,value):\n",
    "    first=0\n",
    "    last=n-1\n",
    "    \n",
    "    while(first<=last):\n",
    "        mid=(first+last)//2\n",
    "        if(value>a[mid]):\n",
    "            first=mid+1\n",
    "        elif(value<a[mid]):\n",
    "            last=mid-1\n",
    "        else:\n",
    "            return mid\n",
    "    return -1\n",
    "\n",
    "        \n",
    "n=int(input(\"Enter the number of elements: \"))\n",
    "a=[None]*n\n",
    "for i in range(n):\n",
    "      a[i]=int(input())\n",
    "        \n",
    "value=int(input())\n",
    "\n",
    "index=binary(a,n,value)\n",
    "        \n",
    "      \n",
    "if (index==-1):\n",
    "    print(\"Not found\")\n",
    "else:\n",
    "    print(\"Found at position: \"+str(index))\n",
    "            "
   ]
  }
 ],
 "metadata": {
  "kernelspec": {
   "display_name": "Python 3",
   "language": "python",
   "name": "python3"
  },
  "language_info": {
   "codemirror_mode": {
    "name": "ipython",
    "version": 3
   },
   "file_extension": ".py",
   "mimetype": "text/x-python",
   "name": "python",
   "nbconvert_exporter": "python",
   "pygments_lexer": "ipython3",
   "version": "3.6.5"
  }
 },
 "nbformat": 4,
 "nbformat_minor": 2
}
