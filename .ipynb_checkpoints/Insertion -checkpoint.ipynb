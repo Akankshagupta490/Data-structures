{
 "cells": [
  {
   "cell_type": "code",
   "execution_count": 1,
   "metadata": {},
   "outputs": [],
   "source": [
    "# creating a class \n",
    "class node:\n",
    "   \n",
    "    def __init__(self, data):\n",
    "        self.data=data\n",
    "        self.link=None\n",
    "        \n"
   ]
  },
  {
   "cell_type": "code",
   "execution_count": 3,
   "metadata": {},
   "outputs": [],
   "source": [
    "# code for inserting element in linkedlist\n",
    "class linkedlist:\n",
    "    def __init__(self):\n",
    "        self.start=None\n",
    "    def insertnode(self,value):\n",
    "        newnode=node(value)\n",
    "        if(self.start==None):#if the linkedlist is empty\n",
    "            self.start=newnode\n",
    "        else:\n",
    "            temp=self.start\n",
    "            while(temp.link!=None):\n",
    "                temp=temp.link\n",
    "            temp.link=newnode\n",
    "    # for displaying the linkedlist   \n",
    "    def display(self):\n",
    "        if (self.start==None):\n",
    "            print(\"list is empty\")\n",
    "        else:\n",
    "            temp=self.start\n",
    "            while(temp!=None):\n",
    "                print(temp.data, end = \" \")\n",
    "                temp=temp.link\n",
    "            \n",
    "   \n",
    "    \n",
    "   \n",
    "            \n",
    "   \n",
    "            \n",
    "        "
   ]
  },
  {
   "cell_type": "code",
   "execution_count": 4,
   "metadata": {},
   "outputs": [
    {
     "name": "stdout",
     "output_type": "stream",
     "text": [
      "After inserting elements in linkedlist: \n",
      "10 20 30 40 50 "
     ]
    }
   ],
   "source": [
    "mylink=linkedlist()\n",
    "mylink.insertnode(10)\n",
    "mylink.insertnode(20)\n",
    "mylink.insertnode(30)\n",
    "mylink.insertnode(40)\n",
    "mylink.insertnode(50)\n",
    "print(\"After inserting elements in linkedlist: \")\n",
    "mylink.display()"
   ]
  },
  {
   "cell_type": "code",
   "execution_count": null,
   "metadata": {},
   "outputs": [],
   "source": []
  }
 ],
 "metadata": {
  "kernelspec": {
   "display_name": "Python 3",
   "language": "python",
   "name": "python3"
  },
  "language_info": {
   "codemirror_mode": {
    "name": "ipython",
    "version": 3
   },
   "file_extension": ".py",
   "mimetype": "text/x-python",
   "name": "python",
   "nbconvert_exporter": "python",
   "pygments_lexer": "ipython3",
   "version": "3.6.5"
  }
 },
 "nbformat": 4,
 "nbformat_minor": 2
}
