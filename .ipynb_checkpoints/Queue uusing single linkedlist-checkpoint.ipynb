{
 "cells": [
  {
   "cell_type": "code",
   "execution_count": 1,
   "metadata": {},
   "outputs": [],
   "source": [
    "class node:\n",
    "    def __init__(self,data):\n",
    "        self.data=data\n",
    "        self.next=None"
   ]
  },
  {
   "cell_type": "code",
   "execution_count": 2,
   "metadata": {},
   "outputs": [],
   "source": [
    "class queue:\n",
    "    def __init__(self):\n",
    "        self.front=None\n",
    "        self.rear=None\n",
    "        \n",
    "    def enqueue(self,value):\n",
    "        newnode= node(value)\n",
    "        if(self.front==None):\n",
    "            self.rear=newnode\n",
    "            self.front=newnode\n",
    "            \n",
    "        else:\n",
    "            self.rear.next=newnode\n",
    "            self.rear=newnode\n",
    "            \n",
    "    def dequeue(self):\n",
    "        if(self.front==None):\n",
    "            print(\"queue is empty\")\n",
    "    \n",
    "        if(self.front.next==None):\n",
    "            self.front=None\n",
    "        else:\n",
    "            self.front=self.front.next\n",
    "            \n",
    "    def display(self):\n",
    "        temp=self.front\n",
    "        while(temp!=None):\n",
    "            print(temp.data, end=\" \")\n",
    "            temp=temp.next\n",
    "            \n",
    "            "
   ]
  },
  {
   "cell_type": "code",
   "execution_count": 3,
   "metadata": {},
   "outputs": [
    {
     "name": "stdout",
     "output_type": "stream",
     "text": [
      "10 20 30 \n",
      "30 \n",
      "30 40 50 "
     ]
    }
   ],
   "source": [
    "q=queue()\n",
    "q.enqueue(10)\n",
    "q.enqueue(20)\n",
    "q.enqueue(30)\n",
    "q.display()\n",
    "print()\n",
    "q.dequeue()\n",
    "q.dequeue()\n",
    "q.display()\n",
    "print()\n",
    "q.enqueue(40)\n",
    "q.enqueue(50)\n",
    "q.display()\n"
   ]
  }
 ],
 "metadata": {
  "kernelspec": {
   "display_name": "Python 3",
   "language": "python",
   "name": "python3"
  },
  "language_info": {
   "codemirror_mode": {
    "name": "ipython",
    "version": 3
   },
   "file_extension": ".py",
   "mimetype": "text/x-python",
   "name": "python",
   "nbconvert_exporter": "python",
   "pygments_lexer": "ipython3",
   "version": "3.6.5"
  }
 },
 "nbformat": 4,
 "nbformat_minor": 2
}
