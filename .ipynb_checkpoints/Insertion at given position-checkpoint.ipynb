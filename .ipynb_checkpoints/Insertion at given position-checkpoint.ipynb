{
 "cells": [
  {
   "cell_type": "code",
   "execution_count": 1,
   "metadata": {},
   "outputs": [],
   "source": [
    "class node:\n",
    "    def __init__(self,data):\n",
    "        self.data=data\n",
    "        self.link=None"
   ]
  },
  {
   "cell_type": "code",
   "execution_count": 2,
   "metadata": {},
   "outputs": [],
   "source": [
    "class linkedlist:\n",
    "    def __init__(self):\n",
    "        self.start=None\n",
    "    def create(self,value):\n",
    "        newnode=node(value)\n",
    "        if(self.start==None):\n",
    "            self.start=newnode\n",
    "        else:\n",
    "            temp=self.start\n",
    "            while(temp.link!=None):\n",
    "                temp=temp.link\n",
    "            temp.link=newnode\n",
    "       \n",
    "    def display(self):\n",
    "        if (self.start==None):\n",
    "            print(\"list is empty\")\n",
    "        else:\n",
    "            temp=self.start\n",
    "            while(temp!=None):\n",
    "                print(temp.data, end = \" \")\n",
    "                temp=temp.link\n",
    "            \n",
    "    \n",
    "            \n",
    "    def insert(self,k,value):\n",
    "        i=1\n",
    "        temp=self.start\n",
    "        if(self.start==None):\n",
    "            print('linkedlist is empty')\n",
    "        while i<k-1 and temp is not None:\n",
    "            temp=temp.link\n",
    "            i+=1\n",
    "        if temp is None:\n",
    "            print(\"cannot be inserted\")\n",
    "        else:\n",
    "            p=node(value)\n",
    "            p.link=temp.link\n",
    "            temp.link=p\n",
    "            \n",
    "         "
   ]
  },
  {
   "cell_type": "code",
   "execution_count": 3,
   "metadata": {},
   "outputs": [
    {
     "name": "stdout",
     "output_type": "stream",
     "text": [
      "Given linkedlist:  10 20 30 40 \n"
     ]
    }
   ],
   "source": [
    "l=linkedlist()\n",
    "l.create(10)\n",
    "l.create(20)\n",
    "l.create(30)\n",
    "l.create(40)\n",
    "print(\"Given linkedlist: \", end=\" \")\n",
    "l.display()\n",
    "print()"
   ]
  },
  {
   "cell_type": "code",
   "execution_count": 4,
   "metadata": {},
   "outputs": [
    {
     "name": "stdout",
     "output_type": "stream",
     "text": [
      "After insertion of 50 at third position:  10 20 50 30 40 \n",
      "After insertion of 60 at second position:  10 60 20 50 30 40 "
     ]
    }
   ],
   "source": [
    "print(\"After insertion of 50 at third position: \", end=\" \")\n",
    "l.insert(3,50)\n",
    "l.display()\n",
    "print()\n",
    "l.insert(2,60)\n",
    "print(\"After insertion of 60 at second position: \", end=\" \")\n",
    "l.display()"
   ]
  },
  {
   "cell_type": "code",
   "execution_count": null,
   "metadata": {},
   "outputs": [],
   "source": []
  },
  {
   "cell_type": "code",
   "execution_count": null,
   "metadata": {},
   "outputs": [],
   "source": []
  },
  {
   "cell_type": "code",
   "execution_count": null,
   "metadata": {},
   "outputs": [],
   "source": []
  },
  {
   "cell_type": "code",
   "execution_count": null,
   "metadata": {},
   "outputs": [],
   "source": []
  },
  {
   "cell_type": "code",
   "execution_count": null,
   "metadata": {},
   "outputs": [],
   "source": []
  },
  {
   "cell_type": "code",
   "execution_count": null,
   "metadata": {},
   "outputs": [],
   "source": []
  },
  {
   "cell_type": "code",
   "execution_count": null,
   "metadata": {},
   "outputs": [],
   "source": []
  },
  {
   "cell_type": "code",
   "execution_count": null,
   "metadata": {},
   "outputs": [],
   "source": []
  }
 ],
 "metadata": {
  "kernelspec": {
   "display_name": "Python 3",
   "language": "python",
   "name": "python3"
  },
  "language_info": {
   "codemirror_mode": {
    "name": "ipython",
    "version": 3
   },
   "file_extension": ".py",
   "mimetype": "text/x-python",
   "name": "python",
   "nbconvert_exporter": "python",
   "pygments_lexer": "ipython3",
   "version": "3.6.5"
  }
 },
 "nbformat": 4,
 "nbformat_minor": 2
}
