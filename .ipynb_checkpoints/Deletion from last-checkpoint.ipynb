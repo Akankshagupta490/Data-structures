{
 "cells": [
  {
   "cell_type": "code",
   "execution_count": 1,
   "metadata": {},
   "outputs": [],
   "source": [
    "class node:\n",
    "    def __init__(self,data):\n",
    "            self.data=data\n",
    "            self.link=None"
   ]
  },
  {
   "cell_type": "code",
   "execution_count": 2,
   "metadata": {},
   "outputs": [],
   "source": [
    "class linkedlist():\n",
    "    def __init__(self):\n",
    "        self.start=None\n",
    "        \n",
    "    def create(self, value):\n",
    "        newnode=node(value)\n",
    "        if(self.start==None):\n",
    "            self.start=newnode\n",
    "        else:\n",
    "            temp=self.start\n",
    "            while(temp.link!=None):\n",
    "                temp=temp.link\n",
    "            temp.link=newnode\n",
    "        newnode=node(value)\n",
    "        \n",
    "            \n",
    "    def deletionatlast(self):\n",
    "        if(self.start==None):\n",
    "            print(\"List is empty\")\n",
    "            \n",
    "        elif(self.start.link==None):\n",
    "            self.start=None\n",
    "            \n",
    "        else:\n",
    "            temp=self.start\n",
    "            while(temp.link.link!=None):\n",
    "                temp=temp.link\n",
    "            temp.link=None\n",
    "            \n",
    "    def display(self):\n",
    "        if(self.start==None):\n",
    "            print(\"list is empty\")\n",
    "        temp=self.start\n",
    "        while(temp!=None):\n",
    "            print(temp.data, end=\" \")\n",
    "            temp=temp.link\n",
    "            \n",
    "            "
   ]
  },
  {
   "cell_type": "code",
   "execution_count": 3,
   "metadata": {},
   "outputs": [
    {
     "name": "stdout",
     "output_type": "stream",
     "text": [
      "List is: list is empty\n",
      "List after deleting last element:  List is empty\n",
      "List after inserting 2 elemets:  10 20 30 \n",
      "After deleting an element from last:  10 20 "
     ]
    }
   ],
   "source": [
    "l=linkedlist()\n",
    "print(\"List is: \", end=\"\")\n",
    "l.display()\n",
    "print(\"List after deleting last element: \", end=\" \")\n",
    "l.deletionatlast()\n",
    "l.create(10)\n",
    "l.create(20)\n",
    "l.create(30)\n",
    "print(\"List after inserting 2 elemets: \", end=\" \")\n",
    "l.display()\n",
    "l.deletionatlast()\n",
    "print()\n",
    "print(\"After deleting an element from last: \", end=\" \")\n",
    "l.display()"
   ]
  }
 ],
 "metadata": {
  "kernelspec": {
   "display_name": "Python 3",
   "language": "python",
   "name": "python3"
  },
  "language_info": {
   "codemirror_mode": {
    "name": "ipython",
    "version": 3
   },
   "file_extension": ".py",
   "mimetype": "text/x-python",
   "name": "python",
   "nbconvert_exporter": "python",
   "pygments_lexer": "ipython3",
   "version": "3.6.5"
  }
 },
 "nbformat": 4,
 "nbformat_minor": 2
}
