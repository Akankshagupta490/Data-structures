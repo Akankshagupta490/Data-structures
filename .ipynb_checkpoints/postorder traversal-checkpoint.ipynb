{
 "cells": [
  {
   "cell_type": "code",
   "execution_count": 2,
   "metadata": {},
   "outputs": [],
   "source": [
    "class node:\n",
    "    def __init__(self,data):\n",
    "        self.data=data\n",
    "        self.left=None\n",
    "        self.right=None"
   ]
  },
  {
   "cell_type": "code",
   "execution_count": 3,
   "metadata": {},
   "outputs": [
    {
     "name": "stdout",
     "output_type": "stream",
     "text": [
      "\n",
      "          4\n",
      "\n",
      "     8\n",
      "\n",
      "          2\n",
      "\n",
      "6\n",
      "\n",
      "          1\n",
      "\n",
      "     10\n",
      "\n",
      "          7\n",
      "\n"
     ]
    }
   ],
   "source": [
    "class Tree:\n",
    "    def __init__(self):\n",
    "        self.root=None\n",
    "    def display(self,p,level):\n",
    "        if p is None:\n",
    "            return\n",
    "        self.display(p.left, level+1)\n",
    "        print()\n",
    "        \n",
    "        for i in range(level):\n",
    "            print(\"    \", end=\" \")\n",
    "        print(p.data)\n",
    "        self.display(p.right, level+1)\n",
    "        \n",
    "    def _display(self):\n",
    "        self.display(self.root, 0)\n",
    "        print()\n",
    "        \n",
    "          \n",
    "    def postorder(self,p):\n",
    "        if p is None:\n",
    "            return\n",
    "        self.postorder(p.right)\n",
    "        self.postorder(p.left)\n",
    "        print(p.data, end=\" \")\n",
    "        \n",
    "    def postorderdisplay(self):\n",
    "        self.postorder(self.root)\n",
    "        \n",
    "t=Tree()\n",
    "t.root=node(6)\n",
    "t.root.left=node(8)\n",
    "t.root.right=node(10)\n",
    "t.root.left.left=node(4)\n",
    "t.root.left.right=node(2)\n",
    "t.root.right.left=node(1)\n",
    "t.root.right.right=node(7)\n",
    "\n",
    "t._display()"
   ]
  },
  {
   "cell_type": "code",
   "execution_count": 4,
   "metadata": {},
   "outputs": [
    {
     "name": "stdout",
     "output_type": "stream",
     "text": [
      "7 1 10 2 4 8 6 "
     ]
    }
   ],
   "source": [
    "t.postorderdisplay()"
   ]
  }
 ],
 "metadata": {
  "kernelspec": {
   "display_name": "Python 3",
   "language": "python",
   "name": "python3"
  },
  "language_info": {
   "codemirror_mode": {
    "name": "ipython",
    "version": 3
   },
   "file_extension": ".py",
   "mimetype": "text/x-python",
   "name": "python",
   "nbconvert_exporter": "python",
   "pygments_lexer": "ipython3",
   "version": "3.6.5"
  }
 },
 "nbformat": 4,
 "nbformat_minor": 2
}
