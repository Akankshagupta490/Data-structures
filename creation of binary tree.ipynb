{
 "cells": [
  {
   "cell_type": "code",
   "execution_count": 1,
   "metadata": {},
   "outputs": [],
   "source": [
    "class node:\n",
    "    def __init__(self,data):\n",
    "        self.data=data\n",
    "        self.left=None\n",
    "        self.right=None"
   ]
  },
  {
   "cell_type": "code",
   "execution_count": 3,
   "metadata": {},
   "outputs": [
    {
     "name": "stdout",
     "output_type": "stream",
     "text": [
      "\n",
      "          4\n",
      "\n",
      "     2\n",
      "\n",
      "          5\n",
      "\n",
      "1\n",
      "\n",
      "          6\n",
      "\n",
      "     3\n",
      "\n",
      "          7\n",
      "\n"
     ]
    }
   ],
   "source": [
    "class Tree:\n",
    "    def __init__(self):\n",
    "        self.root=None\n",
    "    def display(self,p,level):\n",
    "        if p is None:\n",
    "            return \n",
    "        self.display(p.left, level+1)\n",
    "        print()\n",
    "        \n",
    "        for i in range(level):\n",
    "            print(\"    \", end=\" \")\n",
    "        print(p.data)\n",
    "        self.display(p.right, level+1)\n",
    "        \n",
    "    def _display(self):\n",
    "        self.display(self.root, 0)\n",
    "        print()\n",
    "        \n",
    "t=Tree()\n",
    "t.root=node(1)\n",
    "t.root.left=node(2)\n",
    "t.root.right=node(3)\n",
    "t.root.left.left=node(4)\n",
    "t.root.left.right=node(5)\n",
    "t.root.right.left=node(6)\n",
    "t.root.right.right=node(7)\n",
    "\n",
    "t._display()"
   ]
  }
 ],
 "metadata": {
  "kernelspec": {
   "display_name": "Python 3",
   "language": "python",
   "name": "python3"
  },
  "language_info": {
   "codemirror_mode": {
    "name": "ipython",
    "version": 3
   },
   "file_extension": ".py",
   "mimetype": "text/x-python",
   "name": "python",
   "nbconvert_exporter": "python",
   "pygments_lexer": "ipython3",
   "version": "3.6.5"
  }
 },
 "nbformat": 4,
 "nbformat_minor": 2
}
