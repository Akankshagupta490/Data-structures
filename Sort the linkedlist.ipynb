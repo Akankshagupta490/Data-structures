{
 "cells": [
  {
   "cell_type": "code",
   "execution_count": 1,
   "metadata": {},
   "outputs": [],
   "source": [
    "class node:\n",
    "    def __init__(self,data):\n",
    "        self.data=data;\n",
    "        self.link=None"
   ]
  },
  {
   "cell_type": "code",
   "execution_count": 2,
   "metadata": {},
   "outputs": [],
   "source": [
    "class linkedlist:\n",
    "    def __init__(self):\n",
    "        self.start=None\n",
    "    def create(self,value):\n",
    "        newnode=node(value)\n",
    "        if(self.start==None):\n",
    "            self.start=newnode\n",
    "        else:\n",
    "            temp=self.start\n",
    "            while(temp.link!=None):\n",
    "                temp=temp.link\n",
    "            temp.link=newnode\n",
    "       \n",
    "    def display(self):\n",
    "        if (self.start==None):\n",
    "            print(\"list is empty\")\n",
    "        else:\n",
    "            temp=self.start\n",
    "            while(temp!=None):\n",
    "                print(temp.data, end = \" \")\n",
    "                temp=temp.link\n",
    "            \n",
    "    def sort(self):\n",
    "        end=None\n",
    "        while end!=self.start.link:\n",
    "            p=self.start\n",
    "            while(p.link!=end):\n",
    "                q=p.link\n",
    "                if(p.data>q.data):\n",
    "                    p.data, q.data=q.data,p.data\n",
    "                p=p.link\n",
    "            end=p\n",
    "    \n",
    "    "
   ]
  },
  {
   "cell_type": "code",
   "execution_count": 3,
   "metadata": {},
   "outputs": [
    {
     "name": "stdout",
     "output_type": "stream",
     "text": [
      "5 1 3 30 10 20 "
     ]
    }
   ],
   "source": [
    "l=linkedlist()\n",
    "l.create(5)\n",
    "l.create(1)\n",
    "l.create(3)\n",
    "l.create(30)\n",
    "l.create(10)\n",
    "l.create(20)\n",
    "l.display()\n"
   ]
  },
  {
   "cell_type": "code",
   "execution_count": 5,
   "metadata": {},
   "outputs": [
    {
     "name": "stdout",
     "output_type": "stream",
     "text": [
      "1 3 5 10 20 30 "
     ]
    }
   ],
   "source": [
    "print(\"Given linkedlist: \",end=\" \")\n",
    "l.display()\n",
    "print()\n",
    "\n",
    "l.sort()\n",
    "l.display()"
   ]
  }
 ],
 "metadata": {
  "kernelspec": {
   "display_name": "Python 3",
   "language": "python",
   "name": "python3"
  },
  "language_info": {
   "codemirror_mode": {
    "name": "ipython",
    "version": 3
   },
   "file_extension": ".py",
   "mimetype": "text/x-python",
   "name": "python",
   "nbconvert_exporter": "python",
   "pygments_lexer": "ipython3",
   "version": "3.6.5"
  }
 },
 "nbformat": 4,
 "nbformat_minor": 2
}
