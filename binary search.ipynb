{
 "cells": [
  {
   "cell_type": "markdown",
   "metadata": {},
   "source": [
    "# Binary search "
   ]
  },
  {
   "cell_type": "code",
   "execution_count": 3,
   "metadata": {},
   "outputs": [
    {
     "name": "stdout",
     "output_type": "stream",
     "text": [
      "Enter number to find: 8\n",
      "found at position:  8\n"
     ]
    }
   ],
   "source": [
    "def binary(a,low,high,num):\n",
    "    if(high>=low):\n",
    "        mid=(high+low)//2\n",
    "        \n",
    "        if(a[mid]==num):\n",
    "            return mid\n",
    "        \n",
    "        elif(a[mid]<num):\n",
    "            return binary(a,mid+1,high,num)\n",
    "            \n",
    "        else:\n",
    "            return binary(a,low,mid-1,num)\n",
    "    else:\n",
    "        return -1\n",
    "        \n",
    "arr=[1,2,3,4,5,6,7,8]\n",
    "l=int(input(\"Enter number to find: \"))\n",
    "\n",
    "result=binary(arr,0,len(arr)-1,l)\n",
    "if(result!=-1):\n",
    "    print(\"found at position: \", result+1)\n",
    "        \n",
    "else:\n",
    "    print(\"Not found\")\n",
    "        \n",
    "    \n",
    "    "
   ]
  }
 ],
 "metadata": {
  "kernelspec": {
   "display_name": "Python 3",
   "language": "python",
   "name": "python3"
  },
  "language_info": {
   "codemirror_mode": {
    "name": "ipython",
    "version": 3
   },
   "file_extension": ".py",
   "mimetype": "text/x-python",
   "name": "python",
   "nbconvert_exporter": "python",
   "pygments_lexer": "ipython3",
   "version": "3.6.5"
  }
 },
 "nbformat": 4,
 "nbformat_minor": 2
}
