{
 "cells": [
  {
   "cell_type": "markdown",
   "metadata": {},
   "source": [
    "# linear search"
   ]
  },
  {
   "cell_type": "code",
   "execution_count": null,
   "metadata": {},
   "outputs": [],
   "source": [
    "def linear(arr,l,num):\n",
    "    for i in range(l):\n",
    "        if(arr[i]==num):\n",
    "            return i\n",
    "    return -1\n",
    "\n",
    "num= int(input(\"Enter the number to find: \"))\n",
    "l= int(input(\"Enter the length of array: \"))\n",
    "arr=[None]*l\n",
    "for i in range(l):\n",
    "    arr[i]=int(input())\n",
    "print(\"Given array is: \", end=\" \")\n",
    "print(arr)\n",
    "    \n",
    "search=linear(arr,l,num)\n",
    "if(search==-1):\n",
    "    print(\"Not found\")\n",
    "else:\n",
    "    print(\"Found at position: \",search+1)"
   ]
  },
  {
   "cell_type": "markdown",
   "metadata": {},
   "source": []
  }
 ],
 "metadata": {
  "kernelspec": {
   "display_name": "Python 3",
   "language": "python",
   "name": "python3"
  },
  "language_info": {
   "codemirror_mode": {
    "name": "ipython",
    "version": 3
   },
   "file_extension": ".py",
   "mimetype": "text/x-python",
   "name": "python",
   "nbconvert_exporter": "python",
   "pygments_lexer": "ipython3",
   "version": "3.6.5"
  }
 },
 "nbformat": 4,
 "nbformat_minor": 2
}
