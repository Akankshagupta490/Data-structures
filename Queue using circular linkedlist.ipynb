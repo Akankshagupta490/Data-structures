{
 "cells": [
  {
   "cell_type": "code",
   "execution_count": 1,
   "metadata": {},
   "outputs": [],
   "source": [
    "class node:\n",
    "    def __init__(self,data):\n",
    "        self.data=data\n",
    "        self.link=None"
   ]
  },
  {
   "cell_type": "code",
   "execution_count": 2,
   "metadata": {},
   "outputs": [],
   "source": [
    "class Queue:\n",
    "    def __init__(self):\n",
    "        self.last=None\n",
    "        \n",
    "    def enqueue(self,value):\n",
    "        temp=node(value)\n",
    "        if(self.last==None):\n",
    "            self.last=temp\n",
    "            temp.link=temp\n",
    "            \n",
    "        else:\n",
    "            \n",
    "            temp.link=self.last.link\n",
    "            self.last.link=temp\n",
    "            self.last=temp\n",
    "            \n",
    "    def dequeue(self):\n",
    "        if(self.last==None):\n",
    "            print(\"empty\")\n",
    "        if(self.last.link==None):\n",
    "            self.last=None\n",
    "        else:\n",
    "            self.last.link=self.last.link.link\n",
    "            \n",
    "    def display(self):\n",
    "        \n",
    "        \n",
    "        if(self.last==None):\n",
    "            print(\"Is empty\")\n",
    "        \n",
    "        else:\n",
    "            temp=self.last.link\n",
    "            while True:\n",
    "                print(temp.data, end=\" \")\n",
    "                temp=temp.link\n",
    "                if temp==self.last.link:\n",
    "                    break;"
   ]
  },
  {
   "cell_type": "code",
   "execution_count": 4,
   "metadata": {},
   "outputs": [
    {
     "name": "stdout",
     "output_type": "stream",
     "text": [
      "Is empty\n",
      "\n",
      "10 20 30 40 \n",
      "After dequeue:  20 30 40 "
     ]
    }
   ],
   "source": [
    "q=Queue()\n",
    "q.display()\n",
    "print()\n",
    "q.enqueue(10)\n",
    "q.enqueue(20)\n",
    "q.enqueue(30)\n",
    "q.enqueue(40)\n",
    "q.display()\n",
    "print()\n",
    "print(\"After dequeue: \", end=\" \")\n",
    "q.dequeue()\n",
    "q.display()"
   ]
  }
 ],
 "metadata": {
  "kernelspec": {
   "display_name": "Python 3",
   "language": "python",
   "name": "python3"
  },
  "language_info": {
   "codemirror_mode": {
    "name": "ipython",
    "version": 3
   },
   "file_extension": ".py",
   "mimetype": "text/x-python",
   "name": "python",
   "nbconvert_exporter": "python",
   "pygments_lexer": "ipython3",
   "version": "3.6.5"
  }
 },
 "nbformat": 4,
 "nbformat_minor": 2
}
