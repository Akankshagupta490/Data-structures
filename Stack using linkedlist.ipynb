{
 "cells": [
  {
   "cell_type": "code",
   "execution_count": 4,
   "metadata": {},
   "outputs": [],
   "source": [
    "class node:\n",
    "    def __init__(self,data):\n",
    "        self.data=data\n",
    "        self.link=None"
   ]
  },
  {
   "cell_type": "code",
   "execution_count": 7,
   "metadata": {},
   "outputs": [],
   "source": [
    "class stack:\n",
    "    def __init__(self):\n",
    "        self.start=None\n",
    "    def push(self,value):\n",
    "        newnode=node(value)\n",
    "        if(self.start==None):#if the stack is empty\n",
    "            self.start=newnode\n",
    "        else:\n",
    "            temp=self.start\n",
    "            while(temp.link!=None):\n",
    "                temp=temp.link\n",
    "            temp.link=newnode\n",
    "            \n",
    "    def pop(self):\n",
    "        \n",
    "        if(self.start==None):\n",
    "            print(\"List is empty\")\n",
    "            \n",
    "        elif(self.start.link==None):\n",
    "            self.start=None\n",
    "            \n",
    "        else:\n",
    "            temp=self.start\n",
    "            while(temp.link.link!=None):\n",
    "                temp=temp.link\n",
    "            temp.link=None\n",
    "            \n",
    "   \n",
    "    def display(self):\n",
    "        if (self.start==None):\n",
    "            print(\"list is empty\")\n",
    "        else:\n",
    "            temp=self.start\n",
    "            while(temp!=None):\n",
    "                print(temp.data, end = \" \")\n",
    "                temp=temp.link\n",
    "            \n",
    "   \n",
    "    \n",
    "   \n",
    "            \n",
    "   \n",
    "            \n",
    "        "
   ]
  },
  {
   "cell_type": "code",
   "execution_count": 18,
   "metadata": {},
   "outputs": [
    {
     "name": "stdout",
     "output_type": "stream",
     "text": [
      "Initially:  list is empty\n",
      "\n",
      " After pushing 10, Stack:  10 \n",
      "After pushing 20, Stack:  10 20 \n",
      "After pushing 20, Stack:  10 20 30 \n",
      "After popping, Stack:  10 20 \n",
      "After popping, Stack:  10 \n"
     ]
    }
   ],
   "source": [
    "s=stack()\n",
    "print(\"Initially: \", end=\" \")\n",
    "s.display()\n",
    "print()\n",
    "print(\" After pushing 10, Stack: \", end=\" \")\n",
    "s.push(10)\n",
    "s.display()\n",
    "print()\n",
    "print(\"After pushing 20, Stack: \", end=\" \")\n",
    "s.push(20)\n",
    "s.display()\n",
    "print()\n",
    "print(\"After pushing 20, Stack: \", end=\" \")\n",
    "s.push(30)\n",
    "s.display()\n",
    "print()\n",
    "s.pop()\n",
    "print(\"After popping, Stack: \", end=\" \")\n",
    "s.display()\n",
    "print()\n",
    "s.pop()\n",
    "print(\"After popping, Stack: \", end=\" \")\n",
    "s.display()\n",
    "print()\n"
   ]
  }
 ],
 "metadata": {
  "kernelspec": {
   "display_name": "Python 3",
   "language": "python",
   "name": "python3"
  },
  "language_info": {
   "codemirror_mode": {
    "name": "ipython",
    "version": 3
   },
   "file_extension": ".py",
   "mimetype": "text/x-python",
   "name": "python",
   "nbconvert_exporter": "python",
   "pygments_lexer": "ipython3",
   "version": "3.6.5"
  }
 },
 "nbformat": 4,
 "nbformat_minor": 2
}
